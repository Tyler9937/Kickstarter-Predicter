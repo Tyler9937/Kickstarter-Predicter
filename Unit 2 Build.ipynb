{
 "cells": [
  {
   "cell_type": "code",
   "execution_count": 132,
   "metadata": {},
   "outputs": [],
   "source": [
    "#importing pandas\n",
    "#importing os as to work with local files\n",
    "import pandas as pd\n",
    "import os\n",
    "\n",
    "#defining empty list\n",
    "frames = []\n",
    "\n",
    "#loading in all datasets\n",
    "#datasets are named in such a way to be loaded in like this\n",
    "#this current path as 619 seperate csv files to be read in\n",
    "for i in range(1,500):\n",
    "    df = pd.read_csv(r\"C:\\Users\\tyler\\Desktop\\all_data\\z (\" + str(i) + \").csv\" )\n",
    "    frames.append(df)"
   ]
  },
  {
   "cell_type": "code",
   "execution_count": 133,
   "metadata": {},
   "outputs": [],
   "source": [
    "#merging all of the datasets together\n",
    "#merged datasets depend on ones read into frames\n",
    "df = pd.concat(frames, sort=True)"
   ]
  },
  {
   "cell_type": "code",
   "execution_count": 134,
   "metadata": {},
   "outputs": [
    {
     "name": "stdout",
     "output_type": "stream",
     "text": [
      "Duplicate Rows except first occurrence based on all columns are :\n",
      "Empty DataFrame\n",
      "Columns: [backers_count, blurb, category, converted_pledged_amount, country, created_at, creator, currency, currency_symbol, currency_trailing_code, current_currency, deadline, disable_communication, friends, fx_rate, goal, id, is_backing, is_starrable, is_starred, launched_at, location, name, permissions, photo, pledged, profile, slug, source_url, spotlight, staff_pick, state, state_changed_at, static_usd_rate, unread_messages_count, unseen_activity_count, urls, usd_pledged, usd_type]\n",
      "Index: []\n"
     ]
    }
   ],
   "source": [
    "# testing for duplicate rows in the dataframe\n",
    "# Select duplicate rows except first occurrence based on all columns\n",
    "duplicateRowsDF = df[df.duplicated(subset=None, keep='first')]\n",
    "\n",
    "#prints out duplacted rows if any\n",
    "print(\"Duplicate Rows except first occurrence based on all columns are :\")\n",
    "print(duplicateRowsDF)"
   ]
  },
  {
   "cell_type": "code",
   "execution_count": 135,
   "metadata": {},
   "outputs": [
    {
     "data": {
      "text/plain": [
       "(3777, 39)"
      ]
     },
     "execution_count": 135,
     "metadata": {},
     "output_type": "execute_result"
    }
   ],
   "source": [
    "#checking df shape\n",
    "df.shape"
   ]
  },
  {
   "cell_type": "code",
   "execution_count": 136,
   "metadata": {},
   "outputs": [
    {
     "data": {
      "text/html": [
       "<div>\n",
       "<style scoped>\n",
       "    .dataframe tbody tr th:only-of-type {\n",
       "        vertical-align: middle;\n",
       "    }\n",
       "\n",
       "    .dataframe tbody tr th {\n",
       "        vertical-align: top;\n",
       "    }\n",
       "\n",
       "    .dataframe thead th {\n",
       "        text-align: right;\n",
       "    }\n",
       "</style>\n",
       "<table border=\"1\" class=\"dataframe\">\n",
       "  <thead>\n",
       "    <tr style=\"text-align: right;\">\n",
       "      <th></th>\n",
       "      <th>backers_count</th>\n",
       "      <th>blurb</th>\n",
       "      <th>category</th>\n",
       "      <th>converted_pledged_amount</th>\n",
       "      <th>country</th>\n",
       "      <th>created_at</th>\n",
       "      <th>creator</th>\n",
       "      <th>currency</th>\n",
       "      <th>currency_symbol</th>\n",
       "      <th>currency_trailing_code</th>\n",
       "      <th>current_currency</th>\n",
       "      <th>deadline</th>\n",
       "      <th>disable_communication</th>\n",
       "      <th>friends</th>\n",
       "      <th>fx_rate</th>\n",
       "      <th>goal</th>\n",
       "      <th>id</th>\n",
       "      <th>is_backing</th>\n",
       "      <th>is_starrable</th>\n",
       "      <th>is_starred</th>\n",
       "      <th>launched_at</th>\n",
       "      <th>location</th>\n",
       "      <th>name</th>\n",
       "      <th>permissions</th>\n",
       "      <th>photo</th>\n",
       "      <th>pledged</th>\n",
       "      <th>profile</th>\n",
       "      <th>slug</th>\n",
       "      <th>source_url</th>\n",
       "      <th>spotlight</th>\n",
       "      <th>staff_pick</th>\n",
       "      <th>state</th>\n",
       "      <th>state_changed_at</th>\n",
       "      <th>static_usd_rate</th>\n",
       "      <th>unread_messages_count</th>\n",
       "      <th>unseen_activity_count</th>\n",
       "      <th>urls</th>\n",
       "      <th>usd_pledged</th>\n",
       "      <th>usd_type</th>\n",
       "    </tr>\n",
       "  </thead>\n",
       "  <tbody>\n",
       "    <tr>\n",
       "      <td>0</td>\n",
       "      <td>38</td>\n",
       "      <td>Patented, beautifully designed crank flashligh...</td>\n",
       "      <td>{\"id\":337,\"name\":\"Gadgets\",\"slug\":\"technology/...</td>\n",
       "      <td>5166</td>\n",
       "      <td>US</td>\n",
       "      <td>1422132218</td>\n",
       "      <td>{\"id\":1435541211,\"name\":\"Bill Evans &amp; Stan Tan...</td>\n",
       "      <td>USD</td>\n",
       "      <td>$</td>\n",
       "      <td>True</td>\n",
       "      <td>USD</td>\n",
       "      <td>1428601725</td>\n",
       "      <td>False</td>\n",
       "      <td>NaN</td>\n",
       "      <td>1.0000</td>\n",
       "      <td>5000</td>\n",
       "      <td>1221407538</td>\n",
       "      <td>NaN</td>\n",
       "      <td>False</td>\n",
       "      <td>NaN</td>\n",
       "      <td>1426009725</td>\n",
       "      <td>{\"id\":2463583,\"name\":\"Oakland\",\"slug\":\"oakland...</td>\n",
       "      <td>Hardware Art:  Small Batch Crank Flashlight &amp; ...</td>\n",
       "      <td>NaN</td>\n",
       "      <td>{\"key\":\"assets/012/012/636/94bd8000567dfc797dc...</td>\n",
       "      <td>5166.00</td>\n",
       "      <td>{\"id\":1656118,\"project_id\":1656118,\"state\":\"in...</td>\n",
       "      <td>hardware-art-small-batch-crank-flashlight-and-...</td>\n",
       "      <td>https://www.kickstarter.com/discover/categorie...</td>\n",
       "      <td>True</td>\n",
       "      <td>True</td>\n",
       "      <td>successful</td>\n",
       "      <td>1428601726</td>\n",
       "      <td>1.000000</td>\n",
       "      <td>NaN</td>\n",
       "      <td>NaN</td>\n",
       "      <td>{\"web\":{\"project\":\"https://www.kickstarter.com...</td>\n",
       "      <td>5166.000000</td>\n",
       "      <td>domestic</td>\n",
       "    </tr>\n",
       "    <tr>\n",
       "      <td>1</td>\n",
       "      <td>744</td>\n",
       "      <td>Let's make three more episodes of Crash Zoom! ...</td>\n",
       "      <td>{\"id\":29,\"name\":\"Animation\",\"slug\":\"film &amp; vid...</td>\n",
       "      <td>42669</td>\n",
       "      <td>GB</td>\n",
       "      <td>1526567487</td>\n",
       "      <td>{\"id\":1897952907,\"name\":\"Thomas 'TomSka' Ridge...</td>\n",
       "      <td>GBP</td>\n",
       "      <td>£</td>\n",
       "      <td>False</td>\n",
       "      <td>USD</td>\n",
       "      <td>1529514000</td>\n",
       "      <td>False</td>\n",
       "      <td>NaN</td>\n",
       "      <td>1.2688</td>\n",
       "      <td>25000</td>\n",
       "      <td>1834819986</td>\n",
       "      <td>NaN</td>\n",
       "      <td>False</td>\n",
       "      <td>NaN</td>\n",
       "      <td>1526666567</td>\n",
       "      <td>{\"id\":44418,\"name\":\"London\",\"slug\":\"london-gb\"...</td>\n",
       "      <td>Crash Zoom - Series 2 (Animated Webtoon)</td>\n",
       "      <td>NaN</td>\n",
       "      <td>{\"key\":\"assets/021/264/487/8b499c0916817eafc84...</td>\n",
       "      <td>32421.97</td>\n",
       "      <td>{\"id\":3383801,\"project_id\":3383801,\"state\":\"in...</td>\n",
       "      <td>crash-zoom-series-2-animated-webtoon</td>\n",
       "      <td>https://www.kickstarter.com/discover/categorie...</td>\n",
       "      <td>True</td>\n",
       "      <td>False</td>\n",
       "      <td>successful</td>\n",
       "      <td>1529514000</td>\n",
       "      <td>1.355851</td>\n",
       "      <td>NaN</td>\n",
       "      <td>NaN</td>\n",
       "      <td>{\"web\":{\"project\":\"https://www.kickstarter.com...</td>\n",
       "      <td>43959.370497</td>\n",
       "      <td>domestic</td>\n",
       "    </tr>\n",
       "    <tr>\n",
       "      <td>2</td>\n",
       "      <td>260</td>\n",
       "      <td>Can a wall plug be smart, dynamic, and compact...</td>\n",
       "      <td>{\"id\":337,\"name\":\"Gadgets\",\"slug\":\"technology/...</td>\n",
       "      <td>50673</td>\n",
       "      <td>US</td>\n",
       "      <td>1492618297</td>\n",
       "      <td>{\"id\":1307908807,\"name\":\"Svetlana Schubert and...</td>\n",
       "      <td>USD</td>\n",
       "      <td>$</td>\n",
       "      <td>True</td>\n",
       "      <td>USD</td>\n",
       "      <td>1507999196</td>\n",
       "      <td>False</td>\n",
       "      <td>NaN</td>\n",
       "      <td>1.0000</td>\n",
       "      <td>50000</td>\n",
       "      <td>833051480</td>\n",
       "      <td>NaN</td>\n",
       "      <td>False</td>\n",
       "      <td>NaN</td>\n",
       "      <td>1502815196</td>\n",
       "      <td>{\"id\":2391446,\"name\":\"Des Moines\",\"slug\":\"des-...</td>\n",
       "      <td>SnuggPlug 3.0 - Smart&amp;Slim Multi USB Wall Charger</td>\n",
       "      <td>NaN</td>\n",
       "      <td>{\"key\":\"assets/016/481/036/b782c69e382d86eed73...</td>\n",
       "      <td>50673.00</td>\n",
       "      <td>{\"id\":2967810,\"project_id\":2967810,\"state\":\"in...</td>\n",
       "      <td>the-snuggplug-smart-and-slim-space-saving-usb-...</td>\n",
       "      <td>https://www.kickstarter.com/discover/categorie...</td>\n",
       "      <td>True</td>\n",
       "      <td>False</td>\n",
       "      <td>successful</td>\n",
       "      <td>1507999196</td>\n",
       "      <td>1.000000</td>\n",
       "      <td>NaN</td>\n",
       "      <td>NaN</td>\n",
       "      <td>{\"web\":{\"project\":\"https://www.kickstarter.com...</td>\n",
       "      <td>50673.000000</td>\n",
       "      <td>domestic</td>\n",
       "    </tr>\n",
       "    <tr>\n",
       "      <td>3</td>\n",
       "      <td>15</td>\n",
       "      <td>A Science, Math, History and Reading Adventure...</td>\n",
       "      <td>{\"id\":272,\"name\":\"Mobile Games\",\"slug\":\"games/...</td>\n",
       "      <td>477</td>\n",
       "      <td>US</td>\n",
       "      <td>1340296119</td>\n",
       "      <td>{\"id\":1767325640,\"name\":\"Chump Genius, Inc.\",\"...</td>\n",
       "      <td>USD</td>\n",
       "      <td>$</td>\n",
       "      <td>True</td>\n",
       "      <td>USD</td>\n",
       "      <td>1365094464</td>\n",
       "      <td>False</td>\n",
       "      <td>NaN</td>\n",
       "      <td>1.0000</td>\n",
       "      <td>50000</td>\n",
       "      <td>2132116123</td>\n",
       "      <td>NaN</td>\n",
       "      <td>False</td>\n",
       "      <td>NaN</td>\n",
       "      <td>1362506064</td>\n",
       "      <td>{\"id\":2379574,\"name\":\"Chicago\",\"slug\":\"chicago...</td>\n",
       "      <td>Chump Genius Card Game App</td>\n",
       "      <td>NaN</td>\n",
       "      <td>{\"key\":\"assets/011/384/429/b38377340b1fcbc0508...</td>\n",
       "      <td>477.00</td>\n",
       "      <td>{\"id\":234651,\"project_id\":234651,\"state\":\"inac...</td>\n",
       "      <td>chump-genius-card-game-app</td>\n",
       "      <td>https://www.kickstarter.com/discover/categorie...</td>\n",
       "      <td>False</td>\n",
       "      <td>False</td>\n",
       "      <td>failed</td>\n",
       "      <td>1365094466</td>\n",
       "      <td>1.000000</td>\n",
       "      <td>NaN</td>\n",
       "      <td>NaN</td>\n",
       "      <td>{\"web\":{\"project\":\"https://www.kickstarter.com...</td>\n",
       "      <td>477.000000</td>\n",
       "      <td>domestic</td>\n",
       "    </tr>\n",
       "    <tr>\n",
       "      <td>4</td>\n",
       "      <td>58</td>\n",
       "      <td>A High-Fantasy short film that proves you don'...</td>\n",
       "      <td>{\"id\":296,\"name\":\"Fantasy\",\"slug\":\"film &amp; vide...</td>\n",
       "      <td>9386</td>\n",
       "      <td>US</td>\n",
       "      <td>1531443999</td>\n",
       "      <td>{\"id\":1518998549,\"name\":\"Matthew R. R. Morrese...</td>\n",
       "      <td>USD</td>\n",
       "      <td>$</td>\n",
       "      <td>True</td>\n",
       "      <td>USD</td>\n",
       "      <td>1535266740</td>\n",
       "      <td>False</td>\n",
       "      <td>NaN</td>\n",
       "      <td>1.0000</td>\n",
       "      <td>5000</td>\n",
       "      <td>1600103518</td>\n",
       "      <td>NaN</td>\n",
       "      <td>False</td>\n",
       "      <td>NaN</td>\n",
       "      <td>1533509428</td>\n",
       "      <td>{\"id\":2486982,\"name\":\"St. Louis\",\"slug\":\"st-lo...</td>\n",
       "      <td>Canticles: The Adventure Brought to Life</td>\n",
       "      <td>NaN</td>\n",
       "      <td>{\"key\":\"assets/021/885/313/e29be0fb443a996dc31...</td>\n",
       "      <td>9386.00</td>\n",
       "      <td>{\"id\":3424107,\"project_id\":3424107,\"state\":\"in...</td>\n",
       "      <td>canticles-the-adventure-brought-to-life</td>\n",
       "      <td>https://www.kickstarter.com/discover/categorie...</td>\n",
       "      <td>True</td>\n",
       "      <td>False</td>\n",
       "      <td>successful</td>\n",
       "      <td>1535266742</td>\n",
       "      <td>1.000000</td>\n",
       "      <td>NaN</td>\n",
       "      <td>NaN</td>\n",
       "      <td>{\"web\":{\"project\":\"https://www.kickstarter.com...</td>\n",
       "      <td>9386.000000</td>\n",
       "      <td>domestic</td>\n",
       "    </tr>\n",
       "  </tbody>\n",
       "</table>\n",
       "</div>"
      ],
      "text/plain": [
       "   backers_count                                              blurb  \\\n",
       "0             38  Patented, beautifully designed crank flashligh...   \n",
       "1            744  Let's make three more episodes of Crash Zoom! ...   \n",
       "2            260  Can a wall plug be smart, dynamic, and compact...   \n",
       "3             15  A Science, Math, History and Reading Adventure...   \n",
       "4             58  A High-Fantasy short film that proves you don'...   \n",
       "\n",
       "                                            category  \\\n",
       "0  {\"id\":337,\"name\":\"Gadgets\",\"slug\":\"technology/...   \n",
       "1  {\"id\":29,\"name\":\"Animation\",\"slug\":\"film & vid...   \n",
       "2  {\"id\":337,\"name\":\"Gadgets\",\"slug\":\"technology/...   \n",
       "3  {\"id\":272,\"name\":\"Mobile Games\",\"slug\":\"games/...   \n",
       "4  {\"id\":296,\"name\":\"Fantasy\",\"slug\":\"film & vide...   \n",
       "\n",
       "   converted_pledged_amount country  created_at  \\\n",
       "0                      5166      US  1422132218   \n",
       "1                     42669      GB  1526567487   \n",
       "2                     50673      US  1492618297   \n",
       "3                       477      US  1340296119   \n",
       "4                      9386      US  1531443999   \n",
       "\n",
       "                                             creator currency currency_symbol  \\\n",
       "0  {\"id\":1435541211,\"name\":\"Bill Evans & Stan Tan...      USD               $   \n",
       "1  {\"id\":1897952907,\"name\":\"Thomas 'TomSka' Ridge...      GBP               £   \n",
       "2  {\"id\":1307908807,\"name\":\"Svetlana Schubert and...      USD               $   \n",
       "3  {\"id\":1767325640,\"name\":\"Chump Genius, Inc.\",\"...      USD               $   \n",
       "4  {\"id\":1518998549,\"name\":\"Matthew R. R. Morrese...      USD               $   \n",
       "\n",
       "   currency_trailing_code current_currency    deadline  disable_communication  \\\n",
       "0                    True              USD  1428601725                  False   \n",
       "1                   False              USD  1529514000                  False   \n",
       "2                    True              USD  1507999196                  False   \n",
       "3                    True              USD  1365094464                  False   \n",
       "4                    True              USD  1535266740                  False   \n",
       "\n",
       "  friends  fx_rate   goal          id is_backing  is_starrable is_starred  \\\n",
       "0     NaN   1.0000   5000  1221407538        NaN         False        NaN   \n",
       "1     NaN   1.2688  25000  1834819986        NaN         False        NaN   \n",
       "2     NaN   1.0000  50000   833051480        NaN         False        NaN   \n",
       "3     NaN   1.0000  50000  2132116123        NaN         False        NaN   \n",
       "4     NaN   1.0000   5000  1600103518        NaN         False        NaN   \n",
       "\n",
       "   launched_at                                           location  \\\n",
       "0   1426009725  {\"id\":2463583,\"name\":\"Oakland\",\"slug\":\"oakland...   \n",
       "1   1526666567  {\"id\":44418,\"name\":\"London\",\"slug\":\"london-gb\"...   \n",
       "2   1502815196  {\"id\":2391446,\"name\":\"Des Moines\",\"slug\":\"des-...   \n",
       "3   1362506064  {\"id\":2379574,\"name\":\"Chicago\",\"slug\":\"chicago...   \n",
       "4   1533509428  {\"id\":2486982,\"name\":\"St. Louis\",\"slug\":\"st-lo...   \n",
       "\n",
       "                                                name permissions  \\\n",
       "0  Hardware Art:  Small Batch Crank Flashlight & ...         NaN   \n",
       "1           Crash Zoom - Series 2 (Animated Webtoon)         NaN   \n",
       "2  SnuggPlug 3.0 - Smart&Slim Multi USB Wall Charger         NaN   \n",
       "3                         Chump Genius Card Game App         NaN   \n",
       "4           Canticles: The Adventure Brought to Life         NaN   \n",
       "\n",
       "                                               photo   pledged  \\\n",
       "0  {\"key\":\"assets/012/012/636/94bd8000567dfc797dc...   5166.00   \n",
       "1  {\"key\":\"assets/021/264/487/8b499c0916817eafc84...  32421.97   \n",
       "2  {\"key\":\"assets/016/481/036/b782c69e382d86eed73...  50673.00   \n",
       "3  {\"key\":\"assets/011/384/429/b38377340b1fcbc0508...    477.00   \n",
       "4  {\"key\":\"assets/021/885/313/e29be0fb443a996dc31...   9386.00   \n",
       "\n",
       "                                             profile  \\\n",
       "0  {\"id\":1656118,\"project_id\":1656118,\"state\":\"in...   \n",
       "1  {\"id\":3383801,\"project_id\":3383801,\"state\":\"in...   \n",
       "2  {\"id\":2967810,\"project_id\":2967810,\"state\":\"in...   \n",
       "3  {\"id\":234651,\"project_id\":234651,\"state\":\"inac...   \n",
       "4  {\"id\":3424107,\"project_id\":3424107,\"state\":\"in...   \n",
       "\n",
       "                                                slug  \\\n",
       "0  hardware-art-small-batch-crank-flashlight-and-...   \n",
       "1               crash-zoom-series-2-animated-webtoon   \n",
       "2  the-snuggplug-smart-and-slim-space-saving-usb-...   \n",
       "3                         chump-genius-card-game-app   \n",
       "4            canticles-the-adventure-brought-to-life   \n",
       "\n",
       "                                          source_url  spotlight  staff_pick  \\\n",
       "0  https://www.kickstarter.com/discover/categorie...       True        True   \n",
       "1  https://www.kickstarter.com/discover/categorie...       True       False   \n",
       "2  https://www.kickstarter.com/discover/categorie...       True       False   \n",
       "3  https://www.kickstarter.com/discover/categorie...      False       False   \n",
       "4  https://www.kickstarter.com/discover/categorie...       True       False   \n",
       "\n",
       "        state  state_changed_at  static_usd_rate  unread_messages_count  \\\n",
       "0  successful        1428601726         1.000000                    NaN   \n",
       "1  successful        1529514000         1.355851                    NaN   \n",
       "2  successful        1507999196         1.000000                    NaN   \n",
       "3      failed        1365094466         1.000000                    NaN   \n",
       "4  successful        1535266742         1.000000                    NaN   \n",
       "\n",
       "   unseen_activity_count                                               urls  \\\n",
       "0                    NaN  {\"web\":{\"project\":\"https://www.kickstarter.com...   \n",
       "1                    NaN  {\"web\":{\"project\":\"https://www.kickstarter.com...   \n",
       "2                    NaN  {\"web\":{\"project\":\"https://www.kickstarter.com...   \n",
       "3                    NaN  {\"web\":{\"project\":\"https://www.kickstarter.com...   \n",
       "4                    NaN  {\"web\":{\"project\":\"https://www.kickstarter.com...   \n",
       "\n",
       "    usd_pledged  usd_type  \n",
       "0   5166.000000  domestic  \n",
       "1  43959.370497  domestic  \n",
       "2  50673.000000  domestic  \n",
       "3    477.000000  domestic  \n",
       "4   9386.000000  domestic  "
      ]
     },
     "execution_count": 136,
     "metadata": {},
     "output_type": "execute_result"
    }
   ],
   "source": [
    "#looking at df\n",
    "pd.set_option('display.max_columns', None)\n",
    "df.head()"
   ]
  },
  {
   "cell_type": "code",
   "execution_count": 137,
   "metadata": {},
   "outputs": [],
   "source": [
    "#dropping nan values in locatoin column\n",
    "df['location'].dropna(inplace=True)"
   ]
  },
  {
   "cell_type": "code",
   "execution_count": 138,
   "metadata": {},
   "outputs": [
    {
     "data": {
      "text/plain": [
       "0"
      ]
     },
     "execution_count": 138,
     "metadata": {},
     "output_type": "execute_result"
    }
   ],
   "source": [
    "#checking for null values\n",
    "df['launched_at'].isnull().sum()"
   ]
  },
  {
   "cell_type": "code",
   "execution_count": 139,
   "metadata": {},
   "outputs": [],
   "source": [
    "#creating a function that converts strings to dictionaries\n",
    "import json \n",
    "\n",
    "def cat_to_dic(x):\n",
    "   return json.loads(x) \n",
    "\n",
    "import ast\n",
    "def loc_to_dic(x):\n",
    "    return ast.literal_eval(str(x))\n",
    "\n",
    "\n",
    "\n",
    "df['category_dic'] = df['category'].apply(cat_to_dic)\n",
    "\n",
    "#below is code that was no longer needed\n",
    "#df['location_dic'] = df['location'].apply(cat_to_dic)"
   ]
  },
  {
   "cell_type": "code",
   "execution_count": 140,
   "metadata": {},
   "outputs": [],
   "source": [
    "#major datacleaning\n",
    "def cat_to_id(x):\n",
    "    return x['id']\n",
    "def cat_to_name(x):\n",
    "    return x['name']\n",
    "def cat_to_slug(x):\n",
    "    return x['slug']\n",
    "def cat_to_short_names(x):\n",
    "    return x['short_names']\n",
    "def cat_to_displayable_name(x):\n",
    "    return x['displayable_name']\n",
    "def cat_to_localized_name(x):\n",
    "    return x['localized_name']"
   ]
  },
  {
   "cell_type": "code",
   "execution_count": 141,
   "metadata": {},
   "outputs": [],
   "source": [
    "#major data cleaning\n",
    "def cat_to_id(x):\n",
    "    return x['id']\n",
    "def cat_to_name(x):\n",
    "    return x['name']\n",
    "def cat_to_slug(x):\n",
    "    return x['slug']\n",
    "def cat_to_position(x):\n",
    "    return x['position']\n",
    "def cat_to_parent_id(x):\n",
    "    return x['parent_id']\n",
    "def cat_to_state(x):\n",
    "    return x['state']\n",
    "def cat_to_type(x):\n",
    "    return x['state']\n",
    "def cat_to_color(x):\n",
    "    return x['color']"
   ]
  },
  {
   "cell_type": "code",
   "execution_count": 142,
   "metadata": {},
   "outputs": [],
   "source": [
    "#converting to datetime from unix time\n",
    "df['deadline'] = pd.to_datetime(df['deadline'],unit='s')"
   ]
  },
  {
   "cell_type": "code",
   "execution_count": 143,
   "metadata": {},
   "outputs": [],
   "source": [
    "#converting to datetime from unix time\n",
    "df['launched_at'] = pd.to_datetime(df['launched_at'],unit='s')"
   ]
  },
  {
   "cell_type": "code",
   "execution_count": 144,
   "metadata": {},
   "outputs": [],
   "source": [
    "#creating new feature based on days of campaign\n",
    "df['total_days'] = df['deadline'] - df['launched_at']"
   ]
  },
  {
   "cell_type": "code",
   "execution_count": 145,
   "metadata": {},
   "outputs": [],
   "source": [
    "#importing numpy\n",
    "import numpy as np"
   ]
  },
  {
   "cell_type": "code",
   "execution_count": 146,
   "metadata": {},
   "outputs": [],
   "source": [
    "#further conveting days\n",
    "df['total_days'] = df['total_days'].dt.days"
   ]
  },
  {
   "cell_type": "code",
   "execution_count": 147,
   "metadata": {},
   "outputs": [
    {
     "data": {
      "text/plain": [
       "dtype('int64')"
      ]
     },
     "execution_count": 147,
     "metadata": {},
     "output_type": "execute_result"
    }
   ],
   "source": [
    "#checking total_days dtype\n",
    "df['total_days'].dtype"
   ]
  },
  {
   "cell_type": "code",
   "execution_count": 148,
   "metadata": {},
   "outputs": [
    {
     "data": {
      "text/plain": [
       "\"\\ndf['location_id'] = df['location_dic'].apply(cat_to_id)\\ndf['location_name'] = df['location_dic'].apply(cat_to_name)\\ndf['location_slug'] = df['location_dic'].apply(cat_to_slug)\\ndf['location_short_names'] = df['location_dic'].apply(cat_to_short_names)\\ndf['location_displayable_name'] = df['location_dic'].apply(cat_to_displayable_name)\\ndf['location_name'] = df['location_dic'].apply(cat_to_localized_name)\\n\""
      ]
     },
     "execution_count": 148,
     "metadata": {},
     "output_type": "execute_result"
    }
   ],
   "source": [
    "#Engineering new features\n",
    "df['blurb_len'] = len(df['blurb'])\n",
    "df['category_id'] = df['category_dic'].apply(cat_to_id)\n",
    "df['category_name'] = df['category_dic'].apply(cat_to_name)\n",
    "df['category_slug'] = df['category_dic'].apply(cat_to_slug)\n",
    "df['category_position'] = df['category_dic'].apply(cat_to_position)\n",
    "#df['category_parent_id'] = df['category_dic'].apply(cat_to_parent_id)\n",
    "df['category_color'] = df['category_dic'].apply(cat_to_color)\n",
    "df['is_usa'] = df['country'].str.contains('US')\n",
    "df['is_usd'] = df['currency'].str.contains('USD')\n",
    "df['name_length'] = len(df['name'])\n",
    "df['slug_length'] = len(df['slug'])\n",
    "\n",
    "\n",
    "#engineered features that were uneeded in the end\n",
    "'''\n",
    "df['location_id'] = df['location_dic'].apply(cat_to_id)\n",
    "df['location_name'] = df['location_dic'].apply(cat_to_name)\n",
    "df['location_slug'] = df['location_dic'].apply(cat_to_slug)\n",
    "df['location_short_names'] = df['location_dic'].apply(cat_to_short_names)\n",
    "df['location_displayable_name'] = df['location_dic'].apply(cat_to_displayable_name)\n",
    "df['location_name'] = df['location_dic'].apply(cat_to_localized_name)\n",
    "'''"
   ]
  },
  {
   "cell_type": "code",
   "execution_count": 149,
   "metadata": {},
   "outputs": [],
   "source": [
    "#spliting the data using train_test_split\n",
    "from sklearn.model_selection import train_test_split\n",
    "\n",
    "# Split train into train & test\n",
    "train, test = train_test_split(df, train_size=0.80, test_size=0.20, \n",
    "                              stratify=df['state'], random_state=42)\n",
    "\n",
    "# Split train into train & val\n",
    "train, val = train_test_split(train, train_size=0.80, test_size=0.20, \n",
    "                              stratify=train['state'], random_state=42)\n",
    "\n"
   ]
  },
  {
   "cell_type": "code",
   "execution_count": 153,
   "metadata": {},
   "outputs": [],
   "source": [
    "#bulk imorting libraries to be used in pipeline\n",
    "import category_encoders as ce\n",
    "from sklearn.feature_selection import f_regression, SelectKBest\n",
    "from sklearn.impute import SimpleImputer\n",
    "from sklearn.linear_model import Ridge\n",
    "from sklearn.model_selection import cross_val_score\n",
    "from sklearn.pipeline import make_pipeline\n",
    "from sklearn.preprocessing import StandardScaler\n",
    "from sklearn.ensemble import RandomForestClassifier\n",
    "\n",
    "#setting target as state\n",
    "target = 'state'\n",
    "\n",
    "#setting features as rest of columns minus columns that leak information \n",
    "#about the target\n",
    "#also dropping all complex features that were choosen not to be used\n",
    "features = df.columns.drop([target, 'backers_count', 'converted_pledged_amount', 'fx_rate',\n",
    "                           'is_backing', 'is_starrable', 'is_starred', 'permissions', 'pledged', 'profile',\n",
    "                            'source_url', 'spotlight', 'state_changed_at', 'static_usd_rate',\n",
    "                           'unread_messages_count', 'unseen_activity_count', 'urls', 'usd_pledged',\n",
    "                            'category_dic', 'creator', 'currency_trailing_code', 'current_currency',\n",
    "                           'disable_communication','blurb','category','created_at','currency_symbol',\n",
    "                           'deadline','friends','id','launched_at','name','location','photo','slug','usd_type',\n",
    "                           'blurb_len','category_id','category_slug','category_position','category_color',\n",
    "                           'is_usa','is_usd','name_length','slug_length'])\n",
    "\n",
    "#creating our vars to be used in pipline\n",
    "x_train = train[features]\n",
    "y_train = train[target]\n",
    "x_val = val[features]\n",
    "y_val = val[target]\n",
    "x_test = test[features]"
   ]
  },
  {
   "cell_type": "code",
   "execution_count": 154,
   "metadata": {},
   "outputs": [
    {
     "data": {
      "text/plain": [
       "(2416, 6)"
      ]
     },
     "execution_count": 154,
     "metadata": {},
     "output_type": "execute_result"
    }
   ],
   "source": [
    "#checking subset trains shape (features)\n",
    "x_train.shape"
   ]
  },
  {
   "cell_type": "code",
   "execution_count": 155,
   "metadata": {},
   "outputs": [
    {
     "data": {
      "text/plain": [
       "(2416,)"
      ]
     },
     "execution_count": 155,
     "metadata": {},
     "output_type": "execute_result"
    }
   ],
   "source": [
    "#checking subset trains shape (target)\n",
    "y_train.shape"
   ]
  },
  {
   "cell_type": "code",
   "execution_count": 156,
   "metadata": {},
   "outputs": [
    {
     "data": {
      "text/plain": [
       "successful    0.525248\n",
       "failed        0.395695\n",
       "canceled      0.043460\n",
       "live          0.031871\n",
       "suspended     0.003725\n",
       "Name: state, dtype: float64"
      ]
     },
     "execution_count": 156,
     "metadata": {},
     "output_type": "execute_result"
    }
   ],
   "source": [
    "#finding the a baseline score for data\n",
    "\n",
    "# there are five classes\n",
    "# the code below shows the percentage\n",
    "# of value_counts for each class\n",
    "\n",
    "#using value_counts to find baseline\n",
    "\n",
    "\n",
    "y_train.value_counts(normalize=True)"
   ]
  },
  {
   "cell_type": "code",
   "execution_count": 157,
   "metadata": {},
   "outputs": [
    {
     "data": {
      "text/plain": [
       "Pipeline(memory=None,\n",
       "         steps=[('ordinalencoder',\n",
       "                 OrdinalEncoder(cols=['country', 'currency', 'category_name'],\n",
       "                                drop_invariant=False, handle_missing='value',\n",
       "                                handle_unknown='value',\n",
       "                                mapping=[{'col': 'country',\n",
       "                                          'data_type': dtype('O'),\n",
       "                                          'mapping': US      1\n",
       "GB      2\n",
       "ES      3\n",
       "IE      4\n",
       "DE      5\n",
       "CA      6\n",
       "SG      7\n",
       "AU      8\n",
       "MX      9\n",
       "IT     10\n",
       "FR     11\n",
       "NZ     12\n",
       "CH     13\n",
       "AT     14\n",
       "NL     15\n",
       "NO     16\n",
       "SE     17\n",
       "HK     18\n",
       "LU     19\n",
       "DK     20\n",
       "JP     21\n",
       "BE     22\n",
       "NaN    -2\n",
       "dtype: int64},\n",
       "                                         {'col': 'currency',\n",
       "                                          'dat...\n",
       "                ('randomforestclassifier',\n",
       "                 RandomForestClassifier(bootstrap=True, class_weight=None,\n",
       "                                        criterion='gini', max_depth=None,\n",
       "                                        max_features='auto',\n",
       "                                        max_leaf_nodes=None,\n",
       "                                        min_impurity_decrease=0.0,\n",
       "                                        min_impurity_split=None,\n",
       "                                        min_samples_leaf=1, min_samples_split=2,\n",
       "                                        min_weight_fraction_leaf=0.0,\n",
       "                                        n_estimators=100, n_jobs=1,\n",
       "                                        oob_score=False, random_state=0,\n",
       "                                        verbose=0, warm_start=False))],\n",
       "         verbose=False)"
      ]
     },
     "execution_count": 157,
     "metadata": {},
     "output_type": "execute_result"
    }
   ],
   "source": [
    "#creating the pipline using Random forest classifer\n",
    "#using ordinal encoder to make objtypes numeric\n",
    "#using simple imputer to fill in nans\n",
    "pipeline = make_pipeline(\n",
    "    ce.OrdinalEncoder(), \n",
    "    SimpleImputer(strategy='median'), \n",
    "    RandomForestClassifier(n_estimators=100, n_jobs=1, random_state=0)\n",
    ")\n",
    "\n",
    "# Fit on train, score on val\n",
    "pipeline.fit(x_train, y_train)"
   ]
  },
  {
   "cell_type": "code",
   "execution_count": 158,
   "metadata": {},
   "outputs": [
    {
     "name": "stdout",
     "output_type": "stream",
     "text": [
      "Validation Accuracy 0.6413223140495867\n"
     ]
    }
   ],
   "source": [
    "#printing out the validation accuracy\n",
    "print('Validation Accuracy', pipeline.score(x_val, y_val))"
   ]
  },
  {
   "cell_type": "code",
   "execution_count": 159,
   "metadata": {},
   "outputs": [
    {
     "data": {
      "text/html": [
       "<div>\n",
       "<style scoped>\n",
       "    .dataframe tbody tr th:only-of-type {\n",
       "        vertical-align: middle;\n",
       "    }\n",
       "\n",
       "    .dataframe tbody tr th {\n",
       "        vertical-align: top;\n",
       "    }\n",
       "\n",
       "    .dataframe thead th {\n",
       "        text-align: right;\n",
       "    }\n",
       "</style>\n",
       "<table border=\"1\" class=\"dataframe\">\n",
       "  <thead>\n",
       "    <tr style=\"text-align: right;\">\n",
       "      <th></th>\n",
       "      <th>country</th>\n",
       "      <th>currency</th>\n",
       "      <th>goal</th>\n",
       "      <th>staff_pick</th>\n",
       "      <th>total_days</th>\n",
       "      <th>category_name</th>\n",
       "    </tr>\n",
       "  </thead>\n",
       "  <tbody>\n",
       "    <tr>\n",
       "      <td>901</td>\n",
       "      <td>US</td>\n",
       "      <td>USD</td>\n",
       "      <td>80000</td>\n",
       "      <td>False</td>\n",
       "      <td>30</td>\n",
       "      <td>Restaurants</td>\n",
       "    </tr>\n",
       "    <tr>\n",
       "      <td>3342</td>\n",
       "      <td>US</td>\n",
       "      <td>USD</td>\n",
       "      <td>100000</td>\n",
       "      <td>False</td>\n",
       "      <td>30</td>\n",
       "      <td>Drama</td>\n",
       "    </tr>\n",
       "    <tr>\n",
       "      <td>2705</td>\n",
       "      <td>GB</td>\n",
       "      <td>GBP</td>\n",
       "      <td>650</td>\n",
       "      <td>False</td>\n",
       "      <td>60</td>\n",
       "      <td>Festivals</td>\n",
       "    </tr>\n",
       "    <tr>\n",
       "      <td>1468</td>\n",
       "      <td>US</td>\n",
       "      <td>USD</td>\n",
       "      <td>108</td>\n",
       "      <td>False</td>\n",
       "      <td>53</td>\n",
       "      <td>Apps</td>\n",
       "    </tr>\n",
       "    <tr>\n",
       "      <td>3041</td>\n",
       "      <td>US</td>\n",
       "      <td>USD</td>\n",
       "      <td>25000</td>\n",
       "      <td>False</td>\n",
       "      <td>37</td>\n",
       "      <td>Wearables</td>\n",
       "    </tr>\n",
       "  </tbody>\n",
       "</table>\n",
       "</div>"
      ],
      "text/plain": [
       "     country currency    goal  staff_pick  total_days category_name\n",
       "901       US      USD   80000       False          30   Restaurants\n",
       "3342      US      USD  100000       False          30         Drama\n",
       "2705      GB      GBP     650       False          60     Festivals\n",
       "1468      US      USD     108       False          53          Apps\n",
       "3041      US      USD   25000       False          37     Wearables"
      ]
     },
     "execution_count": 159,
     "metadata": {},
     "output_type": "execute_result"
    }
   ],
   "source": [
    "#checking the simplified dataframe head\n",
    "x_train.head()"
   ]
  },
  {
   "cell_type": "code",
   "execution_count": 160,
   "metadata": {},
   "outputs": [
    {
     "data": {
      "text/plain": [
       "['pipeline.joblib']"
      ]
     },
     "execution_count": 160,
     "metadata": {},
     "output_type": "execute_result"
    }
   ],
   "source": [
    "#dumping the pipeline into a file for use in web app\n",
    "from joblib import dump\n",
    "dump(pipeline, 'pipeline.joblib', compress=True)"
   ]
  },
  {
   "cell_type": "code",
   "execution_count": null,
   "metadata": {},
   "outputs": [],
   "source": []
  },
  {
   "cell_type": "code",
   "execution_count": null,
   "metadata": {},
   "outputs": [],
   "source": [
    "#Creating a quick logistic regression model"
   ]
  },
  {
   "cell_type": "code",
   "execution_count": 184,
   "metadata": {},
   "outputs": [],
   "source": [
    "#importing needed libraries\n",
    "import category_encoders as ce\n",
    "from sklearn.impute import SimpleImputer\n",
    "from sklearn.linear_model import LogisticRegressionCV\n",
    "from sklearn.preprocessing import StandardScaler\n",
    "\n",
    "#redifing vars\n",
    "X_train = train[features]\n",
    "y_train = train[target]\n",
    "X_val = val[features]\n",
    "y_val = val[target]\n"
   ]
  },
  {
   "cell_type": "code",
   "execution_count": 185,
   "metadata": {},
   "outputs": [
    {
     "data": {
      "text/plain": [
       "((2416, 6), (2416,), (605, 6), (605,))"
      ]
     },
     "execution_count": 185,
     "metadata": {},
     "output_type": "execute_result"
    }
   ],
   "source": [
    "#checking the shape\n",
    "X_train.shape, y_train.shape, X_val.shape, y_val.shape"
   ]
  },
  {
   "cell_type": "code",
   "execution_count": 186,
   "metadata": {},
   "outputs": [],
   "source": [
    "#using ordinal encoding\n",
    "encoder = ce.OrdinalEncoder()\n",
    "X_train_encoded = encoder.fit_transform(X_train)\n",
    "X_val_encoded = encoder.transform(X_val)"
   ]
  },
  {
   "cell_type": "code",
   "execution_count": 187,
   "metadata": {},
   "outputs": [],
   "source": [
    "#using simple imputer to fill null values\n",
    "imputer = SimpleImputer()\n",
    "X_train_imputed = imputer.fit_transform(X_train_encoded)\n",
    "X_val_imputed = imputer.transform(X_val_encoded)"
   ]
  },
  {
   "cell_type": "code",
   "execution_count": 188,
   "metadata": {},
   "outputs": [],
   "source": [
    "#Using standard scaler\n",
    "scaler = StandardScaler()\n",
    "X_train_scaled = scaler.fit_transform(X_train_imputed)\n",
    "X_val_scaled = scaler.transform(X_val_imputed)"
   ]
  },
  {
   "cell_type": "code",
   "execution_count": 189,
   "metadata": {},
   "outputs": [
    {
     "name": "stderr",
     "output_type": "stream",
     "text": [
      "C:\\Users\\tyler\\Anaconda3\\lib\\site-packages\\sklearn\\linear_model\\logistic.py:469: FutureWarning: Default multi_class will be changed to 'auto' in 0.22. Specify the multi_class option to silence this warning.\n",
      "  \"this warning.\", FutureWarning)\n"
     ]
    },
    {
     "name": "stdout",
     "output_type": "stream",
     "text": [
      "Validation Accuracy 0.6082644628099173\n"
     ]
    }
   ],
   "source": [
    "#fitting the logistic regression\n",
    "model = LogisticRegressionCV(cv=5, n_jobs=-1, random_state=42)\n",
    "model.fit(X_train_scaled, y_train)\n",
    "print('Validation Accuracy', model.score(X_val_scaled, y_val))"
   ]
  },
  {
   "cell_type": "code",
   "execution_count": 190,
   "metadata": {},
   "outputs": [
    {
     "data": {
      "image/png": "[encoded data removed]",
      "text/plain": [
       "<Figure size 432x288 with 1 Axes>"
      ]
     },
     "metadata": {
      "needs_background": "light"
     },
     "output_type": "display_data"
    }
   ],
   "source": [
    "%matplotlib inline\n",
    "coefficients = pd.Series(model.coef_[0], X_train_encoded.columns)\n",
    "coefficients.sort_values().plot.barh();"
   ]
  },
  {
   "cell_type": "code",
   "execution_count": null,
   "metadata": {},
   "outputs": [],
   "source": [
    "data:image/png;base64,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"
   ]
  },
  {
   "cell_type": "code",
   "execution_count": null,
   "metadata": {},
   "outputs": [],
   "source": []
  },
  {
   "cell_type": "code",
   "execution_count": null,
   "metadata": {},
   "outputs": [],
   "source": []
  },
  {
   "cell_type": "code",
   "execution_count": null,
   "metadata": {},
   "outputs": [],
   "source": []
  },
  {
   "cell_type": "code",
   "execution_count": null,
   "metadata": {},
   "outputs": [],
   "source": []
  },
  {
   "cell_type": "code",
   "execution_count": null,
   "metadata": {},
   "outputs": [],
   "source": []
  },
  {
   "cell_type": "code",
   "execution_count": null,
   "metadata": {},
   "outputs": [],
   "source": []
  },
  {
   "cell_type": "code",
   "execution_count": null,
   "metadata": {},
   "outputs": [],
   "source": []
  },
  {
   "cell_type": "code",
   "execution_count": null,
   "metadata": {},
   "outputs": [],
   "source": []
  },
  {
   "cell_type": "code",
   "execution_count": null,
   "metadata": {},
   "outputs": [],
   "source": []
  },
  {
   "cell_type": "code",
   "execution_count": null,
   "metadata": {},
   "outputs": [],
   "source": []
  },
  {
   "cell_type": "code",
   "execution_count": null,
   "metadata": {},
   "outputs": [],
   "source": []
  },
  {
   "cell_type": "code",
   "execution_count": null,
   "metadata": {},
   "outputs": [],
   "source": []
  },
  {
   "cell_type": "code",
   "execution_count": null,
   "metadata": {},
   "outputs": [],
   "source": []
  },
  {
   "cell_type": "code",
   "execution_count": null,
   "metadata": {},
   "outputs": [],
   "source": []
  }
 ],
 "metadata": {
  "kernelspec": {
   "display_name": "Python 3",
   "language": "python",
   "name": "python3"
  },
  "language_info": {
   "codemirror_mode": {
    "name": "ipython",
    "version": 3
   },
   "file_extension": ".py",
   "mimetype": "text/x-python",
   "name": "python",
   "nbconvert_exporter": "python",
   "pygments_lexer": "ipython3",
   "version": "3.7.4"
  }
 },
 "nbformat": 4,
 "nbformat_minor": 4
}
